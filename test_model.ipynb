{
 "cells": [
  {
   "cell_type": "code",
   "execution_count": 1,
   "metadata": {
    "collapsed": false,
    "deletable": true,
    "editable": true
   },
   "outputs": [
    {
     "name": "stdout",
     "output_type": "stream",
     "text": [
      "Mon Jul 16 17:09:25 2018       \n",
      "+-----------------------------------------------------------------------------+\n",
      "| NVIDIA-SMI 384.81                 Driver Version: 384.81                    |\n",
      "|-------------------------------+----------------------+----------------------+\n",
      "| GPU  Name        Persistence-M| Bus-Id        Disp.A | Volatile Uncorr. ECC |\n",
      "| Fan  Temp  Perf  Pwr:Usage/Cap|         Memory-Usage | GPU-Util  Compute M. |\n",
      "|===============================+======================+======================|\n",
      "|   0  GeForce GTX 750     Off  | 00000000:01:00.0 Off |                  N/A |\n",
      "| 33%   30C    P8     1W /  38W |     32MiB /  2000MiB |      0%      Default |\n",
      "+-------------------------------+----------------------+----------------------+\n",
      "|   1  Tesla K40c          Off  | 00000000:02:00.0 Off |                    0 |\n",
      "| 23%   40C    P0    61W / 235W |    119MiB / 11439MiB |      0%      Default |\n",
      "+-------------------------------+----------------------+----------------------+\n",
      "                                                                               \n",
      "+-----------------------------------------------------------------------------+\n",
      "| Processes:                                                       GPU Memory |\n",
      "|  GPU       PID   Type   Process name                             Usage      |\n",
      "|=============================================================================|\n",
      "|    0     31283      C   /home/pabloleo96/nima_tfg/bin/python          21MiB |\n",
      "|    1     31283      C   /home/pabloleo96/nima_tfg/bin/python         108MiB |\n",
      "+-----------------------------------------------------------------------------+\n",
      "  PID TTY          TIME CMD\n",
      "31345 pts/4    00:00:00 sh\n",
      "31346 pts/4    00:00:00 ps\n"
     ]
    }
   ],
   "source": [
    "# packages versions\n",
    "#!pip freeze\n",
    "#!cat /proc/cpuinfo\n",
    "#!free -m\n",
    "#!df -h\n",
    "#!nvidia-smi\n",
    "!ps\n",
    "#!kill 11164"
   ]
  },
  {
   "cell_type": "code",
   "execution_count": null,
   "metadata": {
    "collapsed": false,
    "deletable": true,
    "editable": true
   },
   "outputs": [],
   "source": [
    "# list solutions folder\n",
    "!ls ./results/ -la\n",
    "!date"
   ]
  },
  {
   "cell_type": "code",
   "execution_count": 2,
   "metadata": {
    "collapsed": false,
    "deletable": true,
    "editable": true
   },
   "outputs": [
    {
     "name": "stdout",
     "output_type": "stream",
     "text": [
      "None\n",
      "Mon Jul 16 17:10:00 2018       \r\n",
      "+-----------------------------------------------------------------------------+\r\n",
      "| NVIDIA-SMI 384.81                 Driver Version: 384.81                    |\r\n",
      "|-------------------------------+----------------------+----------------------+\r\n",
      "| GPU  Name        Persistence-M| Bus-Id        Disp.A | Volatile Uncorr. ECC |\r\n",
      "| Fan  Temp  Perf  Pwr:Usage/Cap|         Memory-Usage | GPU-Util  Compute M. |\r\n",
      "|===============================+======================+======================|\r\n",
      "|   0  GeForce GTX 750     Off  | 00000000:01:00.0 Off |                  N/A |\r\n",
      "| 33%   30C    P8     1W /  38W |     32MiB /  2000MiB |      0%      Default |\r\n",
      "+-------------------------------+----------------------+----------------------+\r\n",
      "|   1  Tesla K40c          Off  | 00000000:02:00.0 Off |                    0 |\r\n",
      "| 23%   43C    P0    61W / 235W |    119MiB / 11439MiB |      0%      Default |\r\n",
      "+-------------------------------+----------------------+----------------------+\r\n",
      "                                                                               \r\n",
      "+-----------------------------------------------------------------------------+\r\n",
      "| Processes:                                                       GPU Memory |\r\n",
      "|  GPU       PID   Type   Process name                             Usage      |\r\n",
      "|=============================================================================|\r\n",
      "|    0     31283      C   /home/pabloleo96/nima_tfg/bin/python          21MiB |\r\n",
      "|    1     31283      C   /home/pabloleo96/nima_tfg/bin/python         108MiB |\r\n",
      "+-----------------------------------------------------------------------------+\r\n"
     ]
    },
    {
     "ename": "KeyboardInterrupt",
     "evalue": "",
     "output_type": "error",
     "traceback": [
      "\u001b[0;31m---------------------------------------------------------------------------\u001b[0m",
      "\u001b[0;31mKeyboardInterrupt\u001b[0m                         Traceback (most recent call last)",
      "\u001b[0;32m<ipython-input-2-5cd935a69af5>\u001b[0m in \u001b[0;36m<module>\u001b[0;34m()\u001b[0m\n\u001b[1;32m      4\u001b[0m \u001b[0;32mwhile\u001b[0m \u001b[0;32mTrue\u001b[0m\u001b[0;34m:\u001b[0m\u001b[0;34m\u001b[0m\u001b[0m\n\u001b[1;32m      5\u001b[0m     \u001b[0mget_ipython\u001b[0m\u001b[0;34m(\u001b[0m\u001b[0;34m)\u001b[0m\u001b[0;34m.\u001b[0m\u001b[0msystem\u001b[0m\u001b[0;34m(\u001b[0m\u001b[0;34m'nvidia-smi'\u001b[0m\u001b[0;34m)\u001b[0m\u001b[0;34m\u001b[0m\u001b[0m\n\u001b[0;32m----> 6\u001b[0;31m     \u001b[0mtime\u001b[0m\u001b[0;34m.\u001b[0m\u001b[0msleep\u001b[0m\u001b[0;34m(\u001b[0m\u001b[0;36m1\u001b[0m\u001b[0;34m)\u001b[0m\u001b[0;34m\u001b[0m\u001b[0m\n\u001b[0m\u001b[1;32m      7\u001b[0m     \u001b[0mprint\u001b[0m\u001b[0;34m(\u001b[0m\u001b[0mclear_output\u001b[0m\u001b[0;34m(\u001b[0m\u001b[0;34m)\u001b[0m\u001b[0;34m)\u001b[0m\u001b[0;34m\u001b[0m\u001b[0m\n",
      "\u001b[0;31mKeyboardInterrupt\u001b[0m: "
     ]
    }
   ],
   "source": [
    "# nvidia-smi command\n",
    "import time\n",
    "from IPython.display import clear_output\n",
    "while True:\n",
    "    !nvidia-smi\n",
    "    time.sleep(1)\n",
    "    print(clear_output())"
   ]
  },
  {
   "cell_type": "markdown",
   "metadata": {
    "deletable": true,
    "editable": true
   },
   "source": [
    "## Test model"
   ]
  },
  {
   "cell_type": "code",
   "execution_count": 2,
   "metadata": {
    "collapsed": false,
    "deletable": true,
    "editable": true
   },
   "outputs": [
    {
     "name": "stderr",
     "output_type": "stream",
     "text": [
      "Using TensorFlow backend.\n"
     ]
    }
   ],
   "source": [
    "import os, cv2\n",
    "import numpy as np\n",
    "import pandas as pd\n",
    "import matplotlib\n",
    "import matplotlib.pyplot as plt\n",
    "%matplotlib inline\n",
    "\n",
    "# keras imports\n",
    "import keras\n",
    "import keras.backend as K\n",
    "from utils.create_model import create_VGG, create_MobileNet, create_Inception\n",
    "from utils.data_utils import load_ava, clean_data\n",
    "from utils.score_utils import mean_score, std_score\n",
    "from utils.BatchGenerator import BatchCreator, BatchSequence\n",
    "\n",
    "# model selection\n",
    "from sklearn.model_selection import train_test_split\n",
    "\n",
    "# allow memmory dynamic memmory allocation\n",
    "import tensorflow as tf\n",
    "from keras.backend.tensorflow_backend import set_session\n",
    "config = tf.ConfigProto()\n",
    "config.gpu_options.allow_growth = True  # dynamically grow the memory used on the GPU\n",
    "config.log_device_placement = True  # to log device placement (on which device the operation ran)\n",
    "sess = tf.Session(config=config)\n",
    "set_session(sess)  # set this TensorFlow session as the default session for Keras\n",
    "\n",
    "# random seed to make the kernel reproducible\n",
    "random_seed = 123456789\n",
    "np.random.seed(random_seed)"
   ]
  },
  {
   "cell_type": "code",
   "execution_count": null,
   "metadata": {
    "collapsed": false,
    "deletable": true,
    "editable": true
   },
   "outputs": [],
   "source": [
    "# files = os.listdir('./real_images/')\n",
    "# files = np.array(files)\n",
    "# print(files.shape)\n",
    "# selected = np.array(['DSC_0002.JPG', 'DSC_0158.JPG', 'DSC_0711.JPG', 'DSC_0449.JPG',\n",
    "#                      'DSC_0142.JPG', 'DSC_0239.JPG', 'DSC_0096.JPG', 'DSC_0401.JPG',\n",
    "#                      'DSC_0184.JPG', 'DSC_0169.JPG', 'DSC_0122.JPG', 'DSC_0741.JPG'])\n",
    "# print(selected.shape)\n",
    "# files = files[np.logical_not(np.isin(files, selected))]\n",
    "# print(files.shape)\n",
    "\n",
    "# for file in files:\n",
    "#     os.remove(os.path.join('./real_images/', file))"
   ]
  },
  {
   "cell_type": "code",
   "execution_count": null,
   "metadata": {
    "collapsed": false,
    "deletable": true,
    "editable": true
   },
   "outputs": [],
   "source": [
    "files = os.listdir('./real_images/')\n",
    "files = np.array(files)\n",
    "images = []\n",
    "# load the images into memmory\n",
    "for file in files:\n",
    "    image = cv2.resize(cv2.cvtColor(cv2.imread(os.path.join('./real_images/', file), 1), cv2.COLOR_BGR2RGB), (224, 224))/255\n",
    "    images.append(image)\n",
    "\n",
    "# convert list into numpy array\n",
    "images = np.array(images)"
   ]
  },
  {
   "cell_type": "code",
   "execution_count": null,
   "metadata": {
    "collapsed": false,
    "deletable": true,
    "editable": true
   },
   "outputs": [],
   "source": [
    "# mean_scores_inc = [mean_score(pred) for pred in y_pred_inc]\n",
    "# stds_scores_inc = [std_score(pred) for pred in y_pred_inc]\n",
    "\n",
    "# plt.figure(figsize=(40, 40))\n",
    "# for i in range(len(images)):\n",
    "    \n",
    "#     # open image with opencv and visualize it\n",
    "#     ax = plt.subplot(4, 4, i+1)\n",
    "#     plt.imshow(images[i], aspect = 'auto')\n",
    "#     text = 'Inception: {} ({}{})\\n'.format(round(mean_scores_inc[i], 3), chr(177), round(stds_scores_inc[i], 3))\n",
    "#     plt.subplots_adjust(hspace=0.35)\n",
    "#     plt.text(0.5, -0.2, text, horizontalalignment='center', verticalalignment='center', transform=ax.transAxes, fontsize = 26)\n",
    "#     plt.axis('off')\n",
    "    \n",
    "# #plt.savefig('real_examples.png')\n",
    "# plt.show()"
   ]
  },
  {
   "cell_type": "code",
   "execution_count": null,
   "metadata": {
    "collapsed": false,
    "deletable": true,
    "editable": true
   },
   "outputs": [],
   "source": [
    "# ---------------------\n",
    "model_name = 'inception'\n",
    "model = create_Inception()\n",
    "    \n",
    "model.load_weights('./results/best_model_{}.h5'.format(model_name))\n",
    "y_pred_inc = model.predict(images)\n",
    "K.clear_session()\n",
    "\n",
    "# ---------------------\n",
    "model_name = 'vgg_16'\n",
    "model = create_VGG()\n",
    "\n",
    "model.load_weights('./results/best_model_{}.h5'.format(model_name))\n",
    "y_pred_vgg = model.predict(images)\n",
    "K.clear_session()\n",
    "\n",
    "# ---------------------\n",
    "model_name = 'mobilenet'\n",
    "model = create_MobileNet()\n",
    "model.load_weights('./results/best_model_{}.h5'.format(model_name))\n",
    "y_pred_mobile = model.predict(images)\n",
    "K.clear_session()"
   ]
  },
  {
   "cell_type": "code",
   "execution_count": null,
   "metadata": {
    "collapsed": false,
    "deletable": true,
    "editable": true
   },
   "outputs": [],
   "source": [
    "mean_scores_inc = [mean_score(pred) for pred in y_pred_inc]\n",
    "stds_scores_inc = [std_score(pred) for pred in y_pred_inc]\n",
    "\n",
    "mean_scores_vgg = [mean_score(pred) for pred in y_pred_vgg]\n",
    "stds_scores_vgg = [std_score(pred) for pred in y_pred_vgg]\n",
    "\n",
    "mean_scores_mobile = [mean_score(pred) for pred in y_pred_mobile]\n",
    "stds_scores_mobile = [std_score(pred) for pred in y_pred_mobile]\n",
    "\n",
    "# mean_scores = np.array(mean_scores)\n",
    "# g7 = np.where(mean_scores < 4.2)\n",
    "# print(np.array(files)[g7])"
   ]
  },
  {
   "cell_type": "code",
   "execution_count": null,
   "metadata": {
    "collapsed": false,
    "deletable": true,
    "editable": true
   },
   "outputs": [],
   "source": [
    "images = []\n",
    "# load the images into memmory\n",
    "for file in files:\n",
    "    image = cv2.cvtColor(cv2.imread(os.path.join('./2018-04-13', file), 1), cv2.COLOR_BGR2RGB)/255\n",
    "    images.append(image)\n",
    "\n",
    "# convert list into numpy array\n",
    "images = np.array(images)\n",
    "\n",
    "plt.figure(figsize=(40, 40))\n",
    "for i in range(len(images)):\n",
    "    \n",
    "    # open image with opencv and visualize it\n",
    "    ax = plt.subplot(4, 4, i+1)\n",
    "    plt.imshow(images[i], aspect = 'auto')\n",
    "    text = 'Inception: {} ({}{})\\n'.format(round(mean_scores_inc[i], 3), chr(177), round(stds_scores_inc[i], 3))\n",
    "    text += 'VGG16: {} ({}{})\\n'.format(round(mean_scores_vgg[i], 3), chr(177), round(stds_scores_vgg[i], 3))\n",
    "    text += 'MobileNet: {} ({}{})\\n'.format(round(mean_scores_mobile[i], 3), chr(177), round(stds_scores_mobile[i], 3))\n",
    "    plt.subplots_adjust(hspace=0.35)\n",
    "    plt.text(0.5, -0.2, text, horizontalalignment='center', verticalalignment='center', transform=ax.transAxes, fontsize = 26)\n",
    "    plt.axis('off')\n",
    "    \n",
    "plt.savefig('real_examples.png')\n",
    "plt.show()"
   ]
  },
  {
   "cell_type": "code",
   "execution_count": 3,
   "metadata": {
    "collapsed": true,
    "deletable": true,
    "editable": true
   },
   "outputs": [],
   "source": [
    "# directory where we are going to work on\n",
    "workdir = '/home/frubio/AVA/'\n",
    "\n",
    "# annotations and images directories\n",
    "train_dir_annotations = os.path.join(workdir, 'AVA_dataset')\n",
    "train_dir_images = os.path.join(workdir, 'AVA_images')"
   ]
  },
  {
   "cell_type": "code",
   "execution_count": 4,
   "metadata": {
    "collapsed": false,
    "deletable": true,
    "editable": true
   },
   "outputs": [
    {
     "name": "stdout",
     "output_type": "stream",
     "text": [
      "Total images lost:  178\n",
      "Original dataset shape:  (255530,)\n",
      "Resulting dataset shape:  (255352,)\n"
     ]
    }
   ],
   "source": [
    "# load and clean the dataset\n",
    "x_train, y_train = load_ava(train_dir_annotations)\n",
    "x_train, y_train = clean_data(train_dir_images, x_train, y_train)"
   ]
  },
  {
   "cell_type": "code",
   "execution_count": 5,
   "metadata": {
    "collapsed": false,
    "deletable": true,
    "editable": true
   },
   "outputs": [],
   "source": [
    "# split train and validationy_train\n",
    "x_train, x_validation, y_train, y_validation = train_test_split(x_train, \n",
    "                                                                y_train, \n",
    "                                                                test_size = 0.2,\n",
    "                                                                random_state = random_seed)"
   ]
  },
  {
   "cell_type": "code",
   "execution_count": 6,
   "metadata": {
    "collapsed": false,
    "deletable": true,
    "editable": true
   },
   "outputs": [
    {
     "name": "stdout",
     "output_type": "stream",
     "text": [
      "PatchSequence: 51071 patch samples.\n"
     ]
    }
   ],
   "source": [
    "validation_gen = BatchSequence(x_validation, y_validation, 100, train_dir_images)"
   ]
  },
  {
   "cell_type": "code",
   "execution_count": 7,
   "metadata": {
    "collapsed": false,
    "deletable": true,
    "editable": true
   },
   "outputs": [
    {
     "name": "stdout",
     "output_type": "stream",
     "text": [
      "511/511 [==============================] - 802s 2s/step\n"
     ]
    }
   ],
   "source": [
    "# # ---------------------\n",
    "# model_name = 'inception'\n",
    "# model = create_Inception()\n",
    "    \n",
    "# model.load_weights('./results/best_model_{}.h5'.format(model_name))\n",
    "# y_pred_inc = model.predict(images)\n",
    "# K.clear_session()\n",
    "\n",
    "# # ---------------------\n",
    "# model_name = 'vgg_16'\n",
    "# model = create_VGG()\n",
    "\n",
    "# model.load_weights('./results/best_model_{}.h5'.format(model_name))\n",
    "# y_pred_vgg = model.predict(images)\n",
    "# K.clear_session()\n",
    "\n",
    "# ---------------------\n",
    "model_name = 'mobilenet'\n",
    "model = create_MobileNet()\n",
    "model.load_weights('./results/best_model_{}.h5'.format(model_name))\n",
    "y_pred_mob = model.predict_generator(validation_gen,\n",
    "                                 verbose = 1,\n",
    "                                 workers = 4,\n",
    "                                 use_multiprocessing = True)\n",
    "K.clear_session()"
   ]
  },
  {
   "cell_type": "code",
   "execution_count": null,
   "metadata": {
    "collapsed": false,
    "deletable": true,
    "editable": true
   },
   "outputs": [],
   "source": [
    "# y_pred = model.predict_generator(validation_gen,\n",
    "#                                  verbose = 1,\n",
    "#                                  workers = 4,\n",
    "#                                  use_multiprocessing = True)"
   ]
  },
  {
   "cell_type": "code",
   "execution_count": 8,
   "metadata": {
    "collapsed": true,
    "deletable": true,
    "editable": true
   },
   "outputs": [],
   "source": [
    "y_true = validation_gen.imgs_rates"
   ]
  },
  {
   "cell_type": "code",
   "execution_count": 10,
   "metadata": {
    "collapsed": true,
    "deletable": true,
    "editable": true
   },
   "outputs": [],
   "source": [
    "y_pred = y_pred_mob"
   ]
  },
  {
   "cell_type": "code",
   "execution_count": null,
   "metadata": {
    "collapsed": false,
    "deletable": true,
    "editable": true
   },
   "outputs": [],
   "source": [
    "print(mean_scores.shape)\n",
    "print(mean_scores_pred.shape)"
   ]
  },
  {
   "cell_type": "code",
   "execution_count": 34,
   "metadata": {
    "collapsed": false,
    "deletable": true,
    "editable": true
   },
   "outputs": [
    {
     "data": {
      "image/png": "[encoded data removed]",
      "text/plain": [
       "<Figure size 1152x432 with 2 Axes>"
      ]
     },
     "metadata": {},
     "output_type": "display_data"
    }
   ],
   "source": [
    "# metrics regarding score distribution\n",
    "mean_scores = np.sum(y_true * np.arange(1, 11), axis = 1) / (np.sum(y_true, axis = 1))\n",
    "mean_scores_rep = np.repeat(mean_scores, 10, axis = 0).reshape(len(y_true), 10)\n",
    "stds_scores = np.sqrt((np.sum(np.abs(np.arange(1, 11) - mean_scores_rep) ** 2 * y_true, axis = 1)) / (np.sum(y_true, axis = 1)))\n",
    "\n",
    "mean_scores_pred = np.sum(y_pred * np.arange(1, 11), axis = 1)\n",
    "mean_scores_rep_pred = np.repeat(mean_scores_pred, 10, axis = 0).reshape(len(y_true), 10)\n",
    "stds_scores_pred = np.sqrt((np.sum(np.abs(np.arange(1, 11) - mean_scores_rep_pred) ** 2 * y_pred, axis = 1)))\n",
    "\n",
    "# rating distribution mean over all the dataset\n",
    "plt.figure(figsize=(16, 6))\n",
    "plt.subplot(1, 2, 1)\n",
    "plt.title('Histogram of mean scores')\n",
    "plt.hist(mean_scores, bins = 100, alpha = 0.6, label = 'Ground truth mean scores')\n",
    "plt.hist(mean_scores_pred, bins = 100, color = 'r', alpha = 0.6, label = 'Predicted mean scores')\n",
    "plt.legend()\n",
    "plt.subplot(1, 2, 2)\n",
    "plt.title('Histogram of standard deviations')\n",
    "plt.hist(stds_scores, bins = 100, alpha = 0.6, label = 'Ground truth standard deviations')\n",
    "plt.hist(stds_scores_pred, bins = 100, color = 'r', alpha = 0.6, label = 'Predicted standard deviations')\n",
    "plt.legend()\n",
    "plt.savefig('inception.png')\n",
    "plt.show()"
   ]
  },
  {
   "cell_type": "code",
   "execution_count": null,
   "metadata": {
    "collapsed": false,
    "deletable": true,
    "editable": true
   },
   "outputs": [],
   "source": [
    "print(y_true.shape)"
   ]
  },
  {
   "cell_type": "code",
   "execution_count": null,
   "metadata": {
    "collapsed": false,
    "deletable": true,
    "editable": true,
    "scrolled": false
   },
   "outputs": [],
   "source": [
    "# set the number of images to pick\n",
    "n_images = 5\n",
    "\n",
    "# pick n_images randomly and load them into memory\n",
    "image_idxs = np.random.choice(np.arange(len(x_validation)), n_images, replace = False)\n",
    "\n",
    "images = []\n",
    "# load the images into memory\n",
    "for i in range(n_images):\n",
    "    case = os.path.join(train_dir_images, str(x_validation[image_idxs[i]]) + '.jpg')\n",
    "    image = cv2.resize(cv2.cvtColor(cv2.imread(case, 1), cv2.COLOR_BGR2RGB), (224, 224))/255\n",
    "    images.append(image)\n",
    "\n",
    "# get the predictions\n",
    "images = np.array(images)\n",
    "y_pred = model.predict(images).squeeze()\n",
    "y_true = y_validation[image_idxs]\n",
    "\n",
    "# plot the results\n",
    "for i in range(n_images):\n",
    "    plt.figure(figsize=(12, 12))\n",
    "    plt.subplot(2, 3, 1)\n",
    "    plt.imshow(images[i])\n",
    "    plt.subplot(2, 3, 2)\n",
    "    y_true_norm = y_true[i] / np.sum(y_true[i])\n",
    "    plt.bar(np.arange(1,11), height = y_true_norm)\n",
    "    plt.subplot(2, 3, 3)\n",
    "    y_pred_norm = y_pred[i]\n",
    "    plt.bar(np.arange(1,11), height = y_pred_norm)\n",
    "    plt.show()\n",
    "    print('Real Score: {} ({}{})'.format(round(mean_score(y_true_norm), 3), chr(177), round(std_score(y_true_norm), 3)))\n",
    "    print('Pred Score: {} ({}{})'.format(round(mean_score(y_pred_norm), 3), chr(177), round(std_score(y_pred_norm), 3)))"
   ]
  },
  {
   "cell_type": "code",
   "execution_count": null,
   "metadata": {
    "collapsed": true,
    "deletable": true,
    "editable": true
   },
   "outputs": [],
   "source": []
  }
 ],
 "metadata": {
  "kernelspec": {
   "display_name": "nima_tfg",
   "language": "python",
   "name": "nima_tfg"
  },
  "language_info": {
   "codemirror_mode": {
    "name": "ipython",
    "version": 3
   },
   "file_extension": ".py",
   "mimetype": "text/x-python",
   "name": "python",
   "nbconvert_exporter": "python",
   "pygments_lexer": "ipython3",
   "version": "3.6.4"
  }
 },
 "nbformat": 4,
 "nbformat_minor": 2
}
